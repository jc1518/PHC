{
 "cells": [
  {
   "cell_type": "code",
   "execution_count": null,
   "metadata": {},
   "outputs": [],
   "source": [
    "import pandas as pd\n",
    "\n",
    "# Import csv files names\n",
    "records_output_csv = \"records_data.csv\"\n",
    "workouts_output_csv = \"workouts_data.csv\"\n",
    "\n",
    "records = pd.read_csv(records_output_csv)\n",
    "records"
   ]
  },
  {
   "cell_type": "code",
   "execution_count": null,
   "metadata": {},
   "outputs": [],
   "source": [
    "workouts = pd.read_csv(workouts_output_csv)\n",
    "workouts"
   ]
  },
  {
   "cell_type": "code",
   "execution_count": 5,
   "metadata": {},
   "outputs": [],
   "source": [
    "def get_records_for_workout(\n",
    "    all_records, record_type, workout_startdate, workout_enddate\n",
    "):\n",
    "    \"\"\"Get details of a record type for a workout\"\"\"\n",
    "    records = all_records.loc[all_records[\"type\"] == record_type]\n",
    "    records = records.loc[\n",
    "        (records[\"startDate\"] >= workout_startdate)\n",
    "        & (records[\"endDate\"] <= workout_enddate)\n",
    "    ]\n",
    "    if not records.empty:\n",
    "        records.reset_index(drop=True, inplace=True)\n",
    "        unit = records[\"unit\"].iloc[0]\n",
    "        if record_type in [\n",
    "            \"HeartRate\",\n",
    "            \"RunningStrideLength\",\n",
    "            \"RunningPower\",\n",
    "            \"RunningVerticalOscillation\",\n",
    "            \"RunningGroundContactTime\",\n",
    "            \"RunningSpeed\",\n",
    "        ]:\n",
    "            return {\n",
    "                f\"max {record_type} ({unit})\": records[\"value\"].max(),\n",
    "                f\"min {record_type} ({unit})\": records[\"value\"].min(),\n",
    "                f\"mean {record_type} ({unit})\": records[\"value\"].mean(),\n",
    "            }\n",
    "        if record_type in [\"ActiveEnergyBurned\", \"BasalEnergyBurned\"]:\n",
    "            return {f\"{record_type} ({unit})\": records[\"value\"].sum()}\n",
    "    return {}"
   ]
  },
  {
   "cell_type": "code",
   "execution_count": 4,
   "metadata": {},
   "outputs": [],
   "source": [
    "def get_workout_statistics(all_workouts, workout_type, all_records, record_types):\n",
    "    \"\"\"Get workout statisticas\"\"\"\n",
    "    workouts = all_workouts.loc[all_workouts[\"workoutActivityType\"] == workout_type]\n",
    "    statistics = []\n",
    "    for index, row in workouts.iterrows():\n",
    "        statistic = {}\n",
    "        statistic[\"type\"] = workout_type\n",
    "        statistic[f'duration ({row[\"durationUnit\"]})'] = row[\"duration\"]\n",
    "        statistic[\"time\"] = row[\"startDate\"]\n",
    "        statistic[\"date\"] = row[\"startDate\"][5:10]\n",
    "        for record_type in record_types:\n",
    "            statistic.update(\n",
    "                get_records_for_workout(\n",
    "                    all_records, record_type, row[\"startDate\"], row[\"endDate\"]\n",
    "                )\n",
    "            )\n",
    "        if len(statistic) == 24:\n",
    "                pace = 1000 / 60 / statistic[\"mean RunningSpeed (m/s)\"]\n",
    "                statistic[\"pace (min/km)\"] = f\"{pace:.2f}\"\n",
    "                statistic[\n",
    "                    \"distance (km)\"\n",
    "                ] = f'{(statistic[\"duration (min)\"] / pace):.2f}'\n",
    "                if float(statistic[\"distance (km)\"]) >= 5.0:\n",
    "                    statistics.append(statistic)\n",
    "    return statistics"
   ]
  },
  {
   "cell_type": "code",
   "execution_count": null,
   "metadata": {},
   "outputs": [],
   "source": [
    "get_workout_statistics(workouts, \"Running\", records, [\"HeartRate\", \"RunningStrideLength\", \"RunningPower\", \"RunningVerticalOscillation\", \"RunningGroundContactTime\", \"RunningSpeed\", \"ActiveEnergyBurned\", \"BasalEnergyBurned\"])"
   ]
  }
 ],
 "metadata": {
  "kernelspec": {
   "display_name": "Python 3",
   "language": "python",
   "name": "python3"
  },
  "language_info": {
   "codemirror_mode": {
    "name": "ipython",
    "version": 3
   },
   "file_extension": ".py",
   "mimetype": "text/x-python",
   "name": "python",
   "nbconvert_exporter": "python",
   "pygments_lexer": "ipython3",
   "version": "3.10.6"
  },
  "orig_nbformat": 4
 },
 "nbformat": 4,
 "nbformat_minor": 2
}
