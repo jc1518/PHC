{
 "cells": [
  {
   "cell_type": "code",
   "execution_count": 1,
   "metadata": {},
   "outputs": [],
   "source": [
    "import xml.etree.ElementTree as ET\n",
    "import pandas as pd\n",
    "import datetime as dt\n",
    "\n",
    "# Import health data from exported XML file\n",
    "tree = ET.parse('./export.xml') \n",
    "root = tree.getroot()\n",
    "\n",
    "# Define the time range you would like to use \n",
    "start_date = pd.to_datetime(dt.date(2023, 1, 1), utc=True)\n",
    "end_date = pd.to_datetime(dt.date(2023, 1, 31), utc=True)\n",
    "\n",
    "# Define export csv files names\n",
    "records_output_csv = \"records_data.csv\"\n",
    "workouts_output_csv = \"workouts_data.csv\""
   ]
  },
  {
   "cell_type": "code",
   "execution_count": null,
   "metadata": {},
   "outputs": [],
   "source": [
    "# Load records data\n",
    "record_list = [x.attrib for x in root.iter('Record')]\n",
    "record_data = pd.DataFrame(record_list)\n",
    "\n",
    "# Clean up records data\n",
    "record_data_cleaned = record_data.drop(['sourceName','sourceVersion', 'device'], axis=1)\n",
    "record_data_cleaned['type'] = record_data_cleaned['type'].str.replace('HKQuantityTypeIdentifier', '')\n",
    "record_data_cleaned['type'] = record_data_cleaned['type'].str.replace('HKCategoryTypeIdentifier', '')\n",
    "record_data_cleaned['value'] = pd.to_numeric(record_data_cleaned['value'], errors='coerce')\n",
    "for col in [\"creationDate\", \"startDate\", \"endDate\"]:\n",
    "    record_data_cleaned[col] = pd.to_datetime(record_data_cleaned[col])\n",
    "\n",
    "# Export records data to csv\n",
    "record_data = record_data_cleaned.loc[(record_data_cleaned[\"startDate\"] >= start_date) & (record_data_cleaned[\"startDate\"] <= end_date)]\n",
    "record_data.reset_index(drop=True, inplace=True)\n",
    "record_data.sort_values(by=[\"startDate\"]).to_csv(f\"./{records_output_csv}\")"
   ]
  },
  {
   "cell_type": "code",
   "execution_count": 5,
   "metadata": {},
   "outputs": [],
   "source": [
    "# Load workouts data\n",
    "workout_list = [x.attrib for x in root.iter('Workout')]\n",
    "workout_data = pd.DataFrame(workout_list)\n",
    "\n",
    "# Clean up workouts data\n",
    "workout_data_cleaned = workout_data.drop(['sourceName','sourceVersion', 'device'], axis=1)\n",
    "workout_data_cleaned['workoutActivityType'] = workout_data_cleaned['workoutActivityType'].str.replace('HKWorkoutActivityType', '')\n",
    "for col in [\"creationDate\", \"startDate\", \"endDate\"]:\n",
    "    workout_data_cleaned[col] = pd.to_datetime(workout_data_cleaned[col])\n",
    "\n",
    "# Export workouts data to csv\n",
    "workout_data = workout_data_cleaned.loc[(workout_data_cleaned[\"startDate\"] >= start_date) & (workout_data_cleaned[\"startDate\"] <= end_date) ]                        \n",
    "workout_data.reset_index(drop=True, inplace=True)\n",
    "workout_data.sort_values(by=[\"startDate\"]).to_csv(f\"./{workouts_output_csv}\")"
   ]
  }
 ],
 "metadata": {
  "kernelspec": {
   "display_name": "Python 3",
   "language": "python",
   "name": "python3"
  },
  "language_info": {
   "codemirror_mode": {
    "name": "ipython",
    "version": 3
   },
   "file_extension": ".py",
   "mimetype": "text/x-python",
   "name": "python",
   "nbconvert_exporter": "python",
   "pygments_lexer": "ipython3",
   "version": "3.10.6"
  },
  "orig_nbformat": 4
 },
 "nbformat": 4,
 "nbformat_minor": 2
}
